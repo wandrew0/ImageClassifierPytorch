{
 "cells": [
  {
   "cell_type": "code",
   "execution_count": 44,
   "metadata": {},
   "outputs": [],
   "source": [
    "import QuickDraw as Data\n",
    "from torchvision.models import *\n",
    "import torch\n",
    "from torch import nn\n",
    "import os\n",
    "from torchvision.transforms import v2\n",
    "from PIL import Image\n",
    "import matplotlib.pyplot as plt\n",
    "import random"
   ]
  },
  {
   "cell_type": "code",
   "execution_count": 45,
   "metadata": {},
   "outputs": [],
   "source": [
    "device = (\n",
    "    \"cuda\"\n",
    "    if torch.cuda.is_available()\n",
    "    else \"mps\" if torch.backends.mps.is_available() else \"cpu\"\n",
    ")"
   ]
  },
  {
   "cell_type": "code",
   "execution_count": 46,
   "metadata": {},
   "outputs": [
    {
     "data": {
      "text/plain": [
       "<All keys matched successfully>"
      ]
     },
     "execution_count": 46,
     "metadata": {},
     "output_type": "execute_result"
    }
   ],
   "source": [
    "model = get_model(\"efficientnet_v2_s\", num_classes=Data.num_classes, dropout=.2)\n",
    "model.features[0][0] = nn.Conv2d(1, 24, 3, 2, 1, bias=False)\n",
    "model.to(device)\n",
    "model.name = \"efficientnet_v2_s\"\n",
    "state = torch.load(\"./models/temp-efficientnet_v2_s-QuickDraw\")\n",
    "model.load_state_dict(state[\"model\"])"
   ]
  },
  {
   "cell_type": "code",
   "execution_count": 47,
   "metadata": {},
   "outputs": [],
   "source": [
    "files = os.listdir(\"data/QuickDraw/\")\n",
    "files = [file.split(\".\")[0] for file in files]"
   ]
  },
  {
   "cell_type": "code",
   "execution_count": 48,
   "metadata": {},
   "outputs": [],
   "source": [
    "def predict(file, model):\n",
    "    transform = v2.Compose([\n",
    "        v2.PILToTensor(),\n",
    "        v2.ToDtype(torch.float32, scale=True)\n",
    "    ])\n",
    "    with Image.open(file) as image:\n",
    "        img_tensor = transform(image)\n",
    "        plt.subplot(2, 2, 1)\n",
    "        plt.imshow(image, cmap=\"gray\")\n",
    "        plt.axis(\"off\")\n",
    "    img_tensor, _ = torch.max(img_tensor, dim=0, keepdim=True)\n",
    "    plt.subplot(2, 2, 2)\n",
    "    plt.imshow(img_tensor.squeeze(), cmap=\"gray\")\n",
    "    img_tensor = img_tensor.unsqueeze(0).to(device)\n",
    "    plt.axis(\"off\")\n",
    "    plt.subplot(2, 2, 3)\n",
    "    plt.imshow(img_tensor.squeeze().to(\"cpu\"), cmap=\"gray\")\n",
    "    plt.show()\n",
    "    \n",
    "    model.eval()\n",
    "    with torch.no_grad():\n",
    "        logits = model(img_tensor)[0, :]\n",
    "        logits = torch.softmax(logits, 0, None)\n",
    "        topk = 5\n",
    "        probs, ys = torch.topk(logits, topk)\n",
    "        probs = probs\n",
    "        ys = ys\n",
    "        for i in range(topk):\n",
    "            print(f\"{files[ys[i].item()]}: {probs[i].item():.4f}\")"
   ]
  },
  {
   "cell_type": "code",
   "execution_count": 51,
   "metadata": {},
   "outputs": [],
   "source": [
    "import QuickDraw as Data\n",
    "from sklearn.metrics import confusion_matrix\n",
    "test = Data.test_dataloader(256)\n",
    "model.eval()\n",
    "\n",
    "# Initialize lists to store true and predicted labels\n",
    "y_true = []\n",
    "y_pred = []\n",
    "\n",
    "# Disable gradient calculation\n",
    "with torch.no_grad():\n",
    "    for inputs, labels in test:\n",
    "        # Move inputs and labels to the appropriate device (e.g., GPU or CPU)\n",
    "        inputs, labels = inputs.to(device), labels.to(device)\n",
    "        \n",
    "        # Forward pass\n",
    "        outputs = model(inputs)\n",
    "        \n",
    "        # Get the predicted labels (assuming the model outputs logits)\n",
    "        _, predicted = torch.max(outputs, 1)\n",
    "        \n",
    "        # Append true and predicted labels to the lists\n",
    "        y_true.extend(labels.cpu().numpy())\n",
    "        y_pred.extend(predicted.cpu().numpy())"
   ]
  },
  {
   "cell_type": "code",
   "execution_count": 66,
   "metadata": {},
   "outputs": [],
   "source": [
    "cm = confusion_matrix(y_true, y_pred, normalize=\"true\")"
   ]
  },
  {
   "cell_type": "code",
   "execution_count": 52,
   "metadata": {},
   "outputs": [],
   "source": [
    "import os\n",
    "files = os.listdir(\"data/QuickDraw/\")\n",
    "files = [file.split(\".\")[0] for file in files]"
   ]
  },
  {
   "cell_type": "code",
   "execution_count": 58,
   "metadata": {},
   "outputs": [],
   "source": [
    "reverse = {}\n",
    "for i, file in enumerate(files):\n",
    "    reverse[file] = i"
   ]
  },
  {
   "cell_type": "code",
   "execution_count": 49,
   "metadata": {},
   "outputs": [
    {
     "data": {
      "text/plain": [
       "'penguin'"
      ]
     },
     "execution_count": 49,
     "metadata": {},
     "output_type": "execute_result"
    }
   ],
   "source": [
    "random.choice(files)"
   ]
  },
  {
   "cell_type": "code",
   "execution_count": 50,
   "metadata": {},
   "outputs": [
    {
     "data": {
      "image/png": "[encoded data removed]",
      "text/plain": [
       "<Figure size 640x480 with 3 Axes>"
      ]
     },
     "metadata": {},
     "output_type": "display_data"
    },
    {
     "name": "stdout",
     "output_type": "stream",
     "text": [
      "bucket: 0.5005\n",
      "purse: 0.1290\n",
      "helmet: 0.1144\n",
      "basket: 0.1135\n",
      "paint can: 0.0402\n"
     ]
    }
   ],
   "source": [
    "predict(\"input.jpg\", model)"
   ]
  },
  {
   "cell_type": "code",
   "execution_count": 71,
   "metadata": {},
   "outputs": [
    {
     "data": {
      "text/plain": [
       "0.009456264775413711"
      ]
     },
     "execution_count": 71,
     "metadata": {},
     "output_type": "execute_result"
    }
   ],
   "source": [
    "cm[reverse[\"bucket\"]][reverse[\"helmet\"]]"
   ]
  }
 ],
 "metadata": {
  "kernelspec": {
   "display_name": "base",
   "language": "python",
   "name": "python3"
  },
  "language_info": {
   "codemirror_mode": {
    "name": "ipython",
    "version": 3
   },
   "file_extension": ".py",
   "mimetype": "text/x-python",
   "name": "python",
   "nbconvert_exporter": "python",
   "pygments_lexer": "ipython3",
   "version": "3.10.14"
  }
 },
 "nbformat": 4,
 "nbformat_minor": 2
}
