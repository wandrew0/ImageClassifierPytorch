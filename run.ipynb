{
  "cells": [
    {
      "cell_type": "code",
      "execution_count": 327,
      "metadata": {
        "collapsed": false
      },
      "outputs": [],
      "source": [
        "# For tips on running notebooks in Google Colab, see\n",
        "# https://pytorch.org/tutorials/beginner/colab\n",
        "%matplotlib inline"
      ]
    },
    {
      "cell_type": "code",
      "execution_count": 328,
      "metadata": {
        "collapsed": false
      },
      "outputs": [
        {
          "name": "stdout",
          "output_type": "stream",
          "text": [
            "Using cuda device\n",
            "Number of parameters: 20,237,263\n"
          ]
        },
        {
          "data": {
            "text/plain": [
              "<All keys matched successfully>"
            ]
          },
          "execution_count": 328,
          "metadata": {},
          "output_type": "execute_result"
        }
      ],
      "source": [
        "import torch\n",
        "from torch import nn\n",
        "import torchvision\n",
        "from torchvision.transforms import v2\n",
        "from torchvision.models import *\n",
        "\n",
        "torch.manual_seed(0)\n",
        "\n",
        "device = (\n",
        "    \"cuda\"\n",
        "    if torch.cuda.is_available()\n",
        "    else \"mps\"\n",
        "    if torch.backends.mps.is_available()\n",
        "    else \"cpu\"\n",
        ")\n",
        "# device = \"cuda\"\n",
        "print(f\"Using {device} device\")\n",
        "\n",
        "k = 47\n",
        "\n",
        "model = get_model(\"efficientnet_v2_s\", num_classes=k, dropout=.2)\n",
        "model.features[0][0] = nn.Conv2d(1, 24, 3, 2, 1, bias=False)\n",
        "model.to(device)\n",
        "total_params = sum(p.numel() for p in model.parameters())\n",
        "print(f\"Number of parameters: {total_params:,}\")\n",
        "# print(model)\n",
        "model.load_state_dict(torch.load(\"./models/ip88\")[\"model\"])"
      ]
    },
    {
      "cell_type": "code",
      "execution_count": 329,
      "metadata": {},
      "outputs": [],
      "source": [
        "emnist = {}\n",
        "\n",
        "with open(\"./data/EMNIST/emnist_balanced_mapping.txt\") as f:\n",
        "    f = f.read()\n",
        "    for line in f.split(\"\\n\"):\n",
        "        line = line.split()\n",
        "        emnist[int(line[0])] = int(line[1])    \n",
        "\n",
        "def emnist_to_char(label):\n",
        "    return chr(emnist[label])"
      ]
    },
    {
      "cell_type": "code",
      "execution_count": 330,
      "metadata": {},
      "outputs": [],
      "source": [
        "import matplotlib.pyplot as plt\n",
        "import math\n",
        "from PIL import Image"
      ]
    },
    {
      "cell_type": "code",
      "execution_count": 331,
      "metadata": {},
      "outputs": [],
      "source": [
        "def predict(file, model):\n",
        "    transform = v2.Compose([\n",
        "        v2.PILToTensor(),\n",
        "        v2.ToDtype(torch.float32, scale=True)\n",
        "    ])\n",
        "    transform2 = v2.Compose([\n",
        "        lambda img: v2.functional.hflip(img),\n",
        "        lambda img: v2.functional.rotate(img, 90),\n",
        "    ])\n",
        "    with Image.open(file) as image:\n",
        "        img_tensor = transform(image)\n",
        "        plt.subplot(2, 2, 1)\n",
        "        plt.imshow(image, cmap=\"gray\")\n",
        "        plt.axis(\"off\")\n",
        "    img_tensor, _ = torch.max(img_tensor, dim=0, keepdim=True)\n",
        "    # img_tensor = img_tensor / torch.max(img_tensor).item()\n",
        "    plt.subplot(2, 2, 2)\n",
        "    plt.imshow(img_tensor.squeeze(), cmap=\"gray\")\n",
        "    plt.axis(\"off\")\n",
        "    img_tensor = transform2(img_tensor).unsqueeze(0).to(device)\n",
        "    plt.subplot(2, 2, 3)\n",
        "    plt.imshow(img_tensor.squeeze().to(\"cpu\"), cmap=\"gray\")\n",
        "    plt.show()\n",
        "    \n",
        "    model.eval()\n",
        "    with torch.no_grad():\n",
        "        logits = model(img_tensor)[0, :]\n",
        "        logits = torch.softmax(logits, 0, None)\n",
        "        topk = 3\n",
        "        probs, ys = torch.topk(logits, topk)\n",
        "        probs = probs\n",
        "        ys = ys\n",
        "        for i in range(topk):\n",
        "            print(f\"{emnist_to_char(ys[i].item())}: {probs[i].item():.4f}\")\n"
      ]
    },
    {
      "cell_type": "code",
      "execution_count": 332,
      "metadata": {},
      "outputs": [
        {
          "data": {
            "image/png": "[encoded data removed]",
            "text/plain": [
              "<Figure size 640x480 with 3 Axes>"
            ]
          },
          "metadata": {},
          "output_type": "display_data"
        },
        {
          "name": "stdout",
          "output_type": "stream",
          "text": [
            "3: 0.9283\n",
            "J: 0.0579\n",
            "Z: 0.0046\n"
          ]
        }
      ],
      "source": [
        "predict(\"input.jpg\", model)"
      ]
    }
  ],
  "metadata": {
    "kernelspec": {
      "display_name": "Python 3",
      "language": "python",
      "name": "python3"
    },
    "language_info": {
      "codemirror_mode": {
        "name": "ipython",
        "version": 3
      },
      "file_extension": ".py",
      "mimetype": "text/x-python",
      "name": "python",
      "nbconvert_exporter": "python",
      "pygments_lexer": "ipython3",
      "version": "3.10.14"
    }
  },
  "nbformat": 4,
  "nbformat_minor": 0
}
